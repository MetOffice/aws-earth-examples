{
 "cells": [
  {
   "cell_type": "markdown",
   "metadata": {},
   "source": [
    "Met Office AWS Earth data - Subscribing to data\n",
    "=============\n",
    "\n",
    "The Met Office has made data from its world leading weather models available for research purposes. In this page, we'll go over how to subscribe to the data feeds.\n",
    "\n",
    "For more information on the available data and how to load it see the Getting Started example."
   ]
  },
  {
   "cell_type": "markdown",
   "metadata": {},
   "source": [
    "## Overview\n",
    "\n",
    "### Storage in S3\n",
    "\n",
    "The Met Office data files are being stored in Amazon Web Service (AWS) [Simple Storage Service (S3)](https://aws.amazon.com/s3/) which is an object store. Files (known as objects) are stored in groups (known as buckets). We have a separate bucket for each of the four datasets we are publishing (UK and Global Deterministic and UK and Global Ensembles).\n",
    "\n",
    "While object stores are inexpensive and highly scalable they suffer when it comes to listing the objects which are available in the bucket. Listing a bucket can take a very long time, and as this data is being uploaded very rapidly it is impractical to epxect to discover new data by listing the bucket.\n",
    "\n",
    "### Topics and Queues\n",
    "\n",
    "To solve this we have provided topics using the AWS [Simple Notificaion Service (SNS)](https://aws.amazon.com/sns/) which you can be subscribed to and will notify you when new objects are created. The objects will be held in the bucket for 7 days after the notification is sent to give you a chance to perform analysis using them and then they will be deleted.\n",
    "\n",
    "The easiest way to subscribe to a topic is using the AWS [Simple Queue Service (SQS)](https://aws.amazon.com/sqs/). This is something which you can create in your own AWS account and then subscribe it to our topics. The queue will start storing all of the notifications that we emit ready for you to inspect and process them."
   ]
  },
  {
   "cell_type": "markdown",
   "metadata": {},
   "source": [
    "## Creating a queue\n",
    "\n",
    "To create a queue you must log into your AWS account and navigate to the SQS page and click \"Get Started Now\".\n",
    "\n",
    "![SQS Getting Started Page](https://images.informaticslab.co.uk/misc/b7e227ee082349173cd1d63308ef7e60.png)"
   ]
  },
  {
   "cell_type": "markdown",
   "metadata": {},
   "source": [
    "Then enter a name for your queue and select a queue type and click \"Quick Create Queue\". We recommend you choose a standard queue.\n",
    "\n",
    "_FIFO queues will ensure that messages will be delievered in the order they were receieved, however the notifications are not guaranteed to be in the order that the data was generated so there is little benefit._\n",
    "\n",
    "![Create a queue](https://images.informaticslab.co.uk/misc/8dd77faa5603cb6a9bc578ef06d5edfc.png)"
   ]
  },
  {
   "cell_type": "markdown",
   "metadata": {},
   "source": [
    "## Subscribing to some data"
   ]
  },
  {
   "cell_type": "markdown",
   "metadata": {},
   "source": [
    "Once you have your queue you need to subscribe it to our SNS topics. You can do this by right-clicking on the queue and selecting \"Subscribe Queue to SNS Topic\".\n",
    "\n",
    "![Subscribe queue](https://images.informaticslab.co.uk/misc/e52ef3183fc946ea62d9c5f5a415fed0.png)"
   ]
  },
  {
   "cell_type": "markdown",
   "metadata": {},
   "source": [
    "Then you need to select \"EU (London)\" as the region as all of our infrastructure for AWS Earth is in the UK and then paste in the SNS Amazon Resource Names (ARN) for the topic you wish to subscribe to. For the list of dataset SNS ARNs see our page on the [AWS Open Data Registry](https://registry.opendata.aws/) \n",
    "\n",
    "Let's subscribe to the UKV topic which is the high resolution UK determinstic weather simulation feed using the ARN `arn:aws:sns:eu-west-2:021908831235:aws-earth-mo-atmospheric-ukv-prd`. \n",
    "\n",
    "_Hint: You can subscribe one queue to multiple topics. Just repeat this step with different ARNs._\n",
    "\n",
    "![Subscribe to UKV](https://images.informaticslab.co.uk/misc/117548fcbc816663d08f9d66ffd86333.png)"
   ]
  },
  {
   "cell_type": "markdown",
   "metadata": {},
   "source": [
    "Once your subscription is set up you must wait for some new data to be generated, then you will start to see messages build up on the queue."
   ]
  },
  {
   "cell_type": "markdown",
   "metadata": {},
   "source": [
    "## Processing some messages\n",
    "\n",
    "There are many ways to process messages form a queue. It is up to you how you would like to manage it. However to get your started here is an example of using the Python library boto to read messages from the queue."
   ]
  },
  {
   "cell_type": "code",
   "execution_count": 2,
   "metadata": {},
   "outputs": [],
   "source": [
    "import boto3\n",
    "sqs = boto3.client('sqs')"
   ]
  },
  {
   "cell_type": "markdown",
   "metadata": {},
   "source": [
    "First let's get a message from our queue. We need to provide the queue URL which will consist of the region, your account number and the queue name. You can find this in the SQS control panel when you click on your queue. We will also limit the request to one message, but you can increase this if you like."
   ]
  },
  {
   "cell_type": "code",
   "execution_count": 26,
   "metadata": {},
   "outputs": [],
   "source": [
    "messages = sqs.receive_message(\n",
    "    QueueUrl='https://sqs.eu-west-2.amazonaws.com/123456123456/my-awesome-queue',\n",
    "    MaxNumberOfMessages=1)"
   ]
  },
  {
   "cell_type": "markdown",
   "metadata": {},
   "source": [
    "Now let's extract our single message from our list of messages."
   ]
  },
  {
   "cell_type": "code",
   "execution_count": 19,
   "metadata": {},
   "outputs": [
    {
     "data": {
      "text/plain": [
       "{'MessageId': 'a355a119-2a2f-4e24-b8bd-3b7a3be3fef4',\n",
       " 'ReceiptHandle': 'AQEB3FLQhPVSkFJUUa61qL7wvcaLdJVXqgD8PH+UWPte05OtPS5NdlQbhJb+PJ3LbejB6FBDz3XEVqz4hqfDNAZAzJQCXzprGJLWna5QayMaNbF5Hq4BEzfQs+jTRvRqn/b++tb5xPKk37LT0ThV7j2wg0dF5JefQlpiq8+zk0logtUYHkNzth0V41qsnr8rZGpMWG8koue+PBzYj0QR6vtpQ4Kj0YCq18GqGqK3yjOSTf8KqIFxKb/9S82oSrptmLP67vmAzfqWio2GchQevK+R7wKHYYX3DSVNzrmpRr08OpmYmBSoMq8kDyNtaBgfEBDK4i5L9RwLKP2OUvT35n4H1wfxGRz+dgcqnYI5ihpEb0d6aa+zH0yhEwwdTyAGIKLCmBd3/+STG9BDhVNyXf5PjA==',\n",
       " 'MD5OfBody': '516a07c3e239fd2c84a74f06aab219d6',\n",
       " 'Body': '{\\n  \"Type\" : \"Notification\",\\n  \"MessageId\" : \"28608723-cb8b-5e9b-9b39-d3afba035edf\",\\n  \"TopicArn\" : \"arn:aws:sns:eu-west-2:021908831235:aws-earth-mo-atmospheric-ukv-prd\",\\n  \"Message\" : \"{\\\\\"model\\\\\": \\\\\"mo-atmospheric-ukv-prd\\\\\", \\\\\"ttl\\\\\": 1545316805, \\\\\"time\\\\\": \\\\\"2018-12-12T22:00:00Z\\\\\", \\\\\"bucket\\\\\": \\\\\"aws-earth-mo-atmospheric-ukv-prd\\\\\", \\\\\"created_time\\\\\": \\\\\"2018-12-11T16:26:16Z\\\\\", \\\\\"name\\\\\": \\\\\"wind_speed\\\\\", \\\\\"object_size\\\\\": 100758303.0, \\\\\"forecast_period\\\\\": \\\\\"111600\\\\\", \\\\\"forecast_reference_time\\\\\": \\\\\"2018-12-11T15:00:00Z\\\\\", \\\\\"pressure\\\\\": \\\\\"100000.0 95000.0 92500.0 90000.0 85000.0 80000.0 75000.0 70000.0 60000.0 50000.0 45000.0 40000.0 37500.0 35000.0 32500.0 30000.0 27500.0 25000.0 22500.0 20000.0 17500.0 15000.0 12500.0 10000.0 7000.0 5000.0 4000.0 3000.0 2000.0 1000.0\\\\\", \\\\\"forecast_period_units\\\\\": \\\\\"seconds\\\\\", \\\\\"pressure_units\\\\\": \\\\\"Pa\\\\\", \\\\\"key\\\\\": \\\\\"54354b4b317a019b8f19f2660c2ae4f0cf5a8d26.nc\\\\\"}\",\\n  \"Timestamp\" : \"2018-12-13T14:40:08.668Z\",\\n  \"SignatureVersion\" : \"1\",\\n  \"Signature\" : \"DLW2sUCvx7f8eFQe7Wgdu3/65c9gPh8A4tUnLaMDHjjgC4KDK8ScbL/3HLfQi6cBKKZsulr4Vwt1z7EL6mLodTTCIPGuaxZMRQDYXCnG1HCixeu/qcaaAobIaoNOZ2Kv06NXw/784V5KhcsytAms9Invm8BM1WbN8YCoztY3/ZTpUO+YSAarvFSivUUkg1LBkU3AgsIyExklaTxyCrrai197jziSpnPZbub5C5P1N+ivKEcNvajgLWro03oswKGYDSRVdeLpb6VPc2a5LKzsYEf1uAytmKDmyiPXLuMXAiZh6gkxE1HDUQ1uJzWgy7W21rNMEFsgkjZFlUPL/ys6Gw==\",\\n  \"SigningCertURL\" : \"https://sns.eu-west-2.amazonaws.com/SimpleNotificationService-ac565b8b1a6c5d002d285f9598aa1d9b.pem\",\\n  \"UnsubscribeURL\" : \"https://sns.eu-west-2.amazonaws.com/?Action=Unsubscribe&SubscriptionArn=arn:aws:sns:eu-west-2:021908831235:aws-earth-mo-atmospheric-ukv-prd:a0e10ba1-3a36-450b-8534-3e35ce0ffcb3\",\\n  \"MessageAttributes\" : {\\n    \"forecast_reference_time\" : {\"Type\":\"String\",\"Value\":\"2018-12-11T15:00:00Z\"},\\n    \"name\" : {\"Type\":\"String\",\"Value\":\"wind_speed\"},\\n    \"model\" : {\"Type\":\"String\",\"Value\":\"mo-atmospheric-ukv-prd\"}\\n  }\\n}'}"
      ]
     },
     "execution_count": 19,
     "metadata": {},
     "output_type": "execute_result"
    }
   ],
   "source": [
    "[message] = messages['Messages']\n",
    "message"
   ]
  },
  {
   "cell_type": "markdown",
   "metadata": {},
   "source": [
    "Then we need to extract the SNS notification which has been stored in the `Body` attribute in a JSON encoded form."
   ]
  },
  {
   "cell_type": "code",
   "execution_count": 22,
   "metadata": {},
   "outputs": [
    {
     "data": {
      "text/plain": [
       "{'Type': 'Notification',\n",
       " 'MessageId': '28608723-cb8b-5e9b-9b39-d3afba035edf',\n",
       " 'TopicArn': 'arn:aws:sns:eu-west-2:021908831235:aws-earth-mo-atmospheric-ukv-prd',\n",
       " 'Message': '{\"model\": \"mo-atmospheric-ukv-prd\", \"ttl\": 1545316805, \"time\": \"2018-12-12T22:00:00Z\", \"bucket\": \"aws-earth-mo-atmospheric-ukv-prd\", \"created_time\": \"2018-12-11T16:26:16Z\", \"name\": \"wind_speed\", \"object_size\": 100758303.0, \"forecast_period\": \"111600\", \"forecast_reference_time\": \"2018-12-11T15:00:00Z\", \"pressure\": \"100000.0 95000.0 92500.0 90000.0 85000.0 80000.0 75000.0 70000.0 60000.0 50000.0 45000.0 40000.0 37500.0 35000.0 32500.0 30000.0 27500.0 25000.0 22500.0 20000.0 17500.0 15000.0 12500.0 10000.0 7000.0 5000.0 4000.0 3000.0 2000.0 1000.0\", \"forecast_period_units\": \"seconds\", \"pressure_units\": \"Pa\", \"key\": \"54354b4b317a019b8f19f2660c2ae4f0cf5a8d26.nc\"}',\n",
       " 'Timestamp': '2018-12-13T14:40:08.668Z',\n",
       " 'SignatureVersion': '1',\n",
       " 'Signature': 'DLW2sUCvx7f8eFQe7Wgdu3/65c9gPh8A4tUnLaMDHjjgC4KDK8ScbL/3HLfQi6cBKKZsulr4Vwt1z7EL6mLodTTCIPGuaxZMRQDYXCnG1HCixeu/qcaaAobIaoNOZ2Kv06NXw/784V5KhcsytAms9Invm8BM1WbN8YCoztY3/ZTpUO+YSAarvFSivUUkg1LBkU3AgsIyExklaTxyCrrai197jziSpnPZbub5C5P1N+ivKEcNvajgLWro03oswKGYDSRVdeLpb6VPc2a5LKzsYEf1uAytmKDmyiPXLuMXAiZh6gkxE1HDUQ1uJzWgy7W21rNMEFsgkjZFlUPL/ys6Gw==',\n",
       " 'SigningCertURL': 'https://sns.eu-west-2.amazonaws.com/SimpleNotificationService-ac565b8b1a6c5d002d285f9598aa1d9b.pem',\n",
       " 'UnsubscribeURL': 'https://sns.eu-west-2.amazonaws.com/?Action=Unsubscribe&SubscriptionArn=arn:aws:sns:eu-west-2:021908831235:aws-earth-mo-atmospheric-ukv-prd:a0e10ba1-3a36-450b-8534-3e35ce0ffcb3',\n",
       " 'MessageAttributes': {'forecast_reference_time': {'Type': 'String',\n",
       "   'Value': '2018-12-11T15:00:00Z'},\n",
       "  'name': {'Type': 'String', 'Value': 'wind_speed'},\n",
       "  'model': {'Type': 'String', 'Value': 'mo-atmospheric-ukv-prd'}}}"
      ]
     },
     "execution_count": 22,
     "metadata": {},
     "output_type": "execute_result"
    }
   ],
   "source": [
    "import json\n",
    "notification = json.loads(message['Body'])\n",
    "notification"
   ]
  },
  {
   "cell_type": "markdown",
   "metadata": {},
   "source": [
    "Then finally we can extract the information about the S3 object which has been stored in the notification `Message` in a JSON encoded form."
   ]
  },
  {
   "cell_type": "code",
   "execution_count": 24,
   "metadata": {},
   "outputs": [
    {
     "data": {
      "text/plain": [
       "{'model': 'mo-atmospheric-ukv-prd',\n",
       " 'ttl': 1545316805,\n",
       " 'time': '2018-12-12T22:00:00Z',\n",
       " 'bucket': 'aws-earth-mo-atmospheric-ukv-prd',\n",
       " 'created_time': '2018-12-11T16:26:16Z',\n",
       " 'name': 'wind_speed',\n",
       " 'object_size': 100758303.0,\n",
       " 'forecast_period': '111600',\n",
       " 'forecast_reference_time': '2018-12-11T15:00:00Z',\n",
       " 'pressure': '100000.0 95000.0 92500.0 90000.0 85000.0 80000.0 75000.0 70000.0 60000.0 50000.0 45000.0 40000.0 37500.0 35000.0 32500.0 30000.0 27500.0 25000.0 22500.0 20000.0 17500.0 15000.0 12500.0 10000.0 7000.0 5000.0 4000.0 3000.0 2000.0 1000.0',\n",
       " 'forecast_period_units': 'seconds',\n",
       " 'pressure_units': 'Pa',\n",
       " 'key': '54354b4b317a019b8f19f2660c2ae4f0cf5a8d26.nc'}"
      ]
     },
     "execution_count": 24,
     "metadata": {},
     "output_type": "execute_result"
    }
   ],
   "source": [
    "s3_object = json.loads(notification['Message'])\n",
    "s3_object"
   ]
  },
  {
   "cell_type": "markdown",
   "metadata": {},
   "source": [
    "This dictionary of information should provide you with some insight into what the file contains and should also look very similar to the example notification used in the \"Getting Started\" guide."
   ]
  },
  {
   "cell_type": "code",
   "execution_count": null,
   "metadata": {},
   "outputs": [],
   "source": []
  }
 ],
 "metadata": {
  "kernelspec": {
   "display_name": "Python [default]",
   "language": "python",
   "name": "python3"
  },
  "language_info": {
   "codemirror_mode": {
    "name": "ipython",
    "version": 3
   },
   "file_extension": ".py",
   "mimetype": "text/x-python",
   "name": "python",
   "nbconvert_exporter": "python",
   "pygments_lexer": "ipython3",
   "version": "3.6.3"
  }
 },
 "nbformat": 4,
 "nbformat_minor": 2
}
